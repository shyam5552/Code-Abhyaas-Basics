{
 "cells": [
  {
   "cell_type": "code",
   "execution_count": 1,
   "id": "83422f8b",
   "metadata": {},
   "outputs": [
    {
     "name": "stdout",
     "output_type": "stream",
     "text": [
      "[3, 4, 5, 1, 2]\n"
     ]
    }
   ],
   "source": [
    "#3.program to rotate an array:\n",
    "\n",
    "def left_rotate(a,n):\n",
    "    for j in range(n):\n",
    "        temp=a[0]\n",
    "        for i in range(len(a)-1):\n",
    "    \n",
    "            a[i]=a[i+1]\n",
    "\n",
    "        a[len(a)-1]=temp\n",
    "    return a\n",
    "\n",
    "array=[1,2,3,4,5]\n",
    "n=2\n",
    "print(left_rotate(array,n))"
   ]
  },
  {
   "cell_type": "code",
   "execution_count": null,
   "id": "52f20b3c",
   "metadata": {},
   "outputs": [],
   "source": []
  },
  {
   "cell_type": "code",
   "execution_count": null,
   "id": "7c920fa3",
   "metadata": {},
   "outputs": [],
   "source": []
  }
 ],
 "metadata": {
  "kernelspec": {
   "display_name": "Python 3 (ipykernel)",
   "language": "python",
   "name": "python3"
  },
  "language_info": {
   "codemirror_mode": {
    "name": "ipython",
    "version": 3
   },
   "file_extension": ".py",
   "mimetype": "text/x-python",
   "name": "python",
   "nbconvert_exporter": "python",
   "pygments_lexer": "ipython3",
   "version": "3.10.9"
  }
 },
 "nbformat": 4,
 "nbformat_minor": 5
}
