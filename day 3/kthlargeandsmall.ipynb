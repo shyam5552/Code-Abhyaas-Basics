{
 "cells": [
  {
   "cell_type": "code",
   "execution_count": 4,
   "id": "b54cd7df",
   "metadata": {},
   "outputs": [
    {
     "name": "stdout",
     "output_type": "stream",
     "text": [
      "kth largest is 5\n",
      "kth smallest is 3\n"
     ]
    }
   ],
   "source": [
    "# finding kth largest and smallest number in array\n",
    "def finding_kthlarge(a,k):\n",
    "    n=len(a)\n",
    "    for i in range(n):\n",
    "        for j in range(i+1,n):\n",
    "            if(a[i]<a[j]):\n",
    "                temp=a[i]\n",
    "                a[i]=a[j]\n",
    "                a[j]=temp\n",
    "    print(\"kth largest is\",a[k-1])\n",
    "    print(\"kth smallest is\",a[n-k])\n",
    "a=[1,2,3,4,5,6,7]\n",
    "k=3\n",
    "finding_kthlarge(a,k)"
   ]
  },
  {
   "cell_type": "code",
   "execution_count": null,
   "id": "5bea6d37",
   "metadata": {},
   "outputs": [],
   "source": []
  }
 ],
 "metadata": {
  "kernelspec": {
   "display_name": "Python 3 (ipykernel)",
   "language": "python",
   "name": "python3"
  },
  "language_info": {
   "codemirror_mode": {
    "name": "ipython",
    "version": 3
   },
   "file_extension": ".py",
   "mimetype": "text/x-python",
   "name": "python",
   "nbconvert_exporter": "python",
   "pygments_lexer": "ipython3",
   "version": "3.10.9"
  }
 },
 "nbformat": 4,
 "nbformat_minor": 5
}
