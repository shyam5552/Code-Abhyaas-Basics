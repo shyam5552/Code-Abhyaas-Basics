{
 "cells": [
  {
   "cell_type": "code",
   "execution_count": 10,
   "id": "e287b415",
   "metadata": {},
   "outputs": [
    {
     "name": "stdout",
     "output_type": "stream",
     "text": [
      "palindrome\n"
     ]
    }
   ],
   "source": [
    "\n",
    "def palindrome_or_not(a):\n",
    "    n=len(a)\n",
    "    f=0\n",
    "    for i in range(n//2):\n",
    "        if(a[i]==a[n-i-1]):\n",
    "            f=1\n",
    "    if(f==1):\n",
    "        print(\"palindrome\")\n",
    "st=\"madam\"        \n",
    "palindrome_or_not(st)        "
   ]
  },
  {
   "cell_type": "code",
   "execution_count": null,
   "id": "22243766",
   "metadata": {},
   "outputs": [],
   "source": []
  },
  {
   "cell_type": "code",
   "execution_count": null,
   "id": "92b142a6",
   "metadata": {},
   "outputs": [],
   "source": []
  }
 ],
 "metadata": {
  "kernelspec": {
   "display_name": "Python 3 (ipykernel)",
   "language": "python",
   "name": "python3"
  },
  "language_info": {
   "codemirror_mode": {
    "name": "ipython",
    "version": 3
   },
   "file_extension": ".py",
   "mimetype": "text/x-python",
   "name": "python",
   "nbconvert_exporter": "python",
   "pygments_lexer": "ipython3",
   "version": "3.10.9"
  }
 },
 "nbformat": 4,
 "nbformat_minor": 5
}
