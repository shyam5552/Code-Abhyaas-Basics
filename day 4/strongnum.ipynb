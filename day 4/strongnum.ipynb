{
 "cells": [
  {
   "cell_type": "code",
   "execution_count": 22,
   "id": "873606b7",
   "metadata": {},
   "outputs": [
    {
     "name": "stdout",
     "output_type": "stream",
     "text": [
      "enter number145\n",
      "145 is strong number\n"
     ]
    }
   ],
   "source": [
    "def strongnum_or_not(n):\n",
    "    s=0\n",
    "    tn=n\n",
    "    \n",
    "    while(n>0):\n",
    "        r=n%10\n",
    "        s+=factorial(r)\n",
    "        n=n//10\n",
    "    if s==tn:\n",
    "        print(tn,\"is strong number\")\n",
    "    else:\n",
    "        print(tn,\"is not strong number\")\n",
    "def factorial(r):\n",
    "    f=1\n",
    "    for i in range(1,r+1):\n",
    "        f=f*i\n",
    "    return f\n",
    "\n",
    "number=int(input(\"enter number\"))\n",
    "strongnum_or_not(number) \n",
    "    "
   ]
  },
  {
   "cell_type": "code",
   "execution_count": null,
   "id": "b112c8ae",
   "metadata": {},
   "outputs": [],
   "source": []
  }
 ],
 "metadata": {
  "kernelspec": {
   "display_name": "Python 3 (ipykernel)",
   "language": "python",
   "name": "python3"
  },
  "language_info": {
   "codemirror_mode": {
    "name": "ipython",
    "version": 3
   },
   "file_extension": ".py",
   "mimetype": "text/x-python",
   "name": "python",
   "nbconvert_exporter": "python",
   "pygments_lexer": "ipython3",
   "version": "3.10.9"
  }
 },
 "nbformat": 4,
 "nbformat_minor": 5
}
