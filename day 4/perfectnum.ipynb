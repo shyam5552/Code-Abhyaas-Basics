{
 "cells": [
  {
   "cell_type": "code",
   "execution_count": 6,
   "id": "c531083d",
   "metadata": {},
   "outputs": [
    {
     "name": "stdout",
     "output_type": "stream",
     "text": [
      "6 is perfect number\n"
     ]
    }
   ],
   "source": [
    "def perfectnum(n):\n",
    "    sum=0\n",
    "    for i in range(1,n//2+1):\n",
    "        if(n%i==0):\n",
    "            sum=sum+i\n",
    "    if(sum==n):\n",
    "        print(n,\"is perfect number\")\n",
    "number=6        \n",
    "perfectnum(number)      "
   ]
  },
  {
   "cell_type": "code",
   "execution_count": null,
   "id": "7baf4955",
   "metadata": {},
   "outputs": [],
   "source": []
  }
 ],
 "metadata": {
  "kernelspec": {
   "display_name": "Python 3 (ipykernel)",
   "language": "python",
   "name": "python3"
  },
  "language_info": {
   "codemirror_mode": {
    "name": "ipython",
    "version": 3
   },
   "file_extension": ".py",
   "mimetype": "text/x-python",
   "name": "python",
   "nbconvert_exporter": "python",
   "pygments_lexer": "ipython3",
   "version": "3.10.9"
  }
 },
 "nbformat": 4,
 "nbformat_minor": 5
}
