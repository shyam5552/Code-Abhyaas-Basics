{
 "cells": [
  {
   "cell_type": "code",
   "execution_count": 13,
   "id": "801b16fe",
   "metadata": {},
   "outputs": [
    {
     "name": "stdout",
     "output_type": "stream",
     "text": [
      "153  is amstrong number\n"
     ]
    }
   ],
   "source": [
    "def armstrong_or_mot(n):\n",
    "    s=0\n",
    "    tn=n\n",
    "    while(n>0):\n",
    "        r=n%10\n",
    "       \n",
    "        c=r*r*r\n",
    "        s=s+c\n",
    "        \n",
    "        n=n//10\n",
    "    if(s==tn):\n",
    "        print(tn,\" is amstrong number\")\n",
    "number=153  \n",
    "armstrong_or_mot(number)    "
   ]
  },
  {
   "cell_type": "code",
   "execution_count": null,
   "id": "9e0ee20d",
   "metadata": {},
   "outputs": [],
   "source": []
  }
 ],
 "metadata": {
  "kernelspec": {
   "display_name": "Python 3 (ipykernel)",
   "language": "python",
   "name": "python3"
  },
  "language_info": {
   "codemirror_mode": {
    "name": "ipython",
    "version": 3
   },
   "file_extension": ".py",
   "mimetype": "text/x-python",
   "name": "python",
   "nbconvert_exporter": "python",
   "pygments_lexer": "ipython3",
   "version": "3.10.9"
  }
 },
 "nbformat": 4,
 "nbformat_minor": 5
}
