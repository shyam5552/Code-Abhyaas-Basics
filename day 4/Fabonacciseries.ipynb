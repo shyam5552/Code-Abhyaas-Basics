{
 "cells": [
  {
   "cell_type": "code",
   "execution_count": 12,
   "id": "9783feee",
   "metadata": {},
   "outputs": [
    {
     "name": "stdout",
     "output_type": "stream",
     "text": [
      "0\n",
      "1\n",
      "1\n",
      "2\n",
      "3\n"
     ]
    }
   ],
   "source": [
    "def fabonacci_series(t):\n",
    "    f=0\n",
    "    s=1\n",
    "\n",
    "    count=0\n",
    "    while(count<t):\n",
    "        print(f)\n",
    "        temp=f+s\n",
    "        f=s\n",
    "        s=temp\n",
    "        count+=1\n",
    "nt=5 #no of terms        \n",
    "fabonacci_series(nt)    \n",
    "    "
   ]
  },
  {
   "cell_type": "code",
   "execution_count": null,
   "id": "3492e1d1",
   "metadata": {},
   "outputs": [],
   "source": []
  }
 ],
 "metadata": {
  "kernelspec": {
   "display_name": "Python 3 (ipykernel)",
   "language": "python",
   "name": "python3"
  },
  "language_info": {
   "codemirror_mode": {
    "name": "ipython",
    "version": 3
   },
   "file_extension": ".py",
   "mimetype": "text/x-python",
   "name": "python",
   "nbconvert_exporter": "python",
   "pygments_lexer": "ipython3",
   "version": "3.10.9"
  }
 },
 "nbformat": 4,
 "nbformat_minor": 5
}
